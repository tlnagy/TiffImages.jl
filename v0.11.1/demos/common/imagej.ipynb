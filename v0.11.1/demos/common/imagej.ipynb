{
 "cells": [
  {
   "cell_type": "markdown",
   "source": [
    "ImageJ is a commonly used image processing software for working with TIFFs.\n",
    "You might want to add X and Y resolution information to your `TiffImages.jl`\n",
    "TIFFs that works with ImageJ."
   ],
   "metadata": {}
  },
  {
   "cell_type": "markdown",
   "source": [
    "First, we need to assign the resolution unit by adding a `RESOLUTIONUNIT` tag\n",
    "to each IFD in the image"
   ],
   "metadata": {}
  },
  {
   "outputs": [],
   "cell_type": "code",
   "source": [
    "using Images, TiffImages, Unitful\n",
    "img0 = zeros(Gray{N0f8}, 10, 10, 12) #example image\n",
    "img = TiffImages.DenseTaggedImage(img0)\n",
    "\n",
    "!isdefined(Main, :ifds) && (ifds = x-> x.ifds) #hide\n",
    "\n",
    "resunit = UInt8(3) # 1: No absolute unit of measurement, 2: Inch, 3: Centimeter\n",
    "[ifd[TiffImages.RESOLUTIONUNIT] = resunit for ifd in ifds(img)];"
   ],
   "metadata": {},
   "execution_count": 1
  },
  {
   "cell_type": "markdown",
   "source": [
    "Then, we can add the `XRESOLUTION` and `YRESOLUTION` TIFF tags to store the\n",
    "number of pixels per `RESOLUTIONUNIT`."
   ],
   "metadata": {}
  },
  {
   "outputs": [
    {
     "output_type": "execute_result",
     "data": {
      "text/plain": "IFD, with tags: \n\tTag(IMAGEWIDTH, 10)\n\tTag(IMAGELENGTH, 10)\n\tTag(BITSPERSAMPLE, 8)\n\tTag(PHOTOMETRIC, 1)\n\tTag(SAMPLESPERPIXEL, 1)\n\tTag(XRESOLUTION, 0x001d3582//0x0000007d)\n\tTag(YRESOLUTION, 0x001d3582//0x0000007d)\n\tTag(RESOLUTIONUNIT, 3)\n\tTag(SAMPLEFORMAT, 1)"
     },
     "metadata": {},
     "execution_count": 2
    }
   ],
   "cell_type": "code",
   "source": [
    "resxy = Rational{UInt32}(round(1u\"cm\"/0.653u\"μm\", digits = 3)) # Type must be rational. In this example, the pixel size is 0.653 μm x 0.653 μm.\n",
    "[ifd[TiffImages.XRESOLUTION] = resxy for ifd in ifds(img)]\n",
    "[ifd[TiffImages.YRESOLUTION] = resxy for ifd in ifds(img)]\n",
    "first(ifds(img))"
   ],
   "metadata": {},
   "execution_count": 2
  },
  {
   "cell_type": "markdown",
   "source": [
    "Now if we want to add Z and time information to a TIFF, it's a bit more\n",
    "complicated because the TIFF spec doesn't have a standard way of representing\n",
    "this information. ImageJ has a poorly documented way to add this information\n",
    "by writing to an IMAGEDESCRIPTION tag in the first IFD."
   ],
   "metadata": {}
  },
  {
   "cell_type": "markdown",
   "source": [
    "The following tells ImageJ that it is a hyperstack with 3 timepoints and 4 Z\n",
    "slices with a 0.2 interval (in secs) between frames and a 5 micron spacing,\n",
    "respectively."
   ],
   "metadata": {}
  },
  {
   "outputs": [
    {
     "output_type": "execute_result",
     "data": {
      "text/plain": "IFD, with tags: \n\tTag(IMAGEWIDTH, 10)\n\tTag(IMAGELENGTH, 10)\n\tTag(BITSPERSAMPLE, 8)\n\tTag(PHOTOMETRIC, 1)\n\tTag(IMAGEDESCRIPTION, \"ImageJ=1.51d\nimages=...\")\n\tTag(SAMPLESPERPIXEL, 1)\n\tTag(XRESOLUTION, 0x001d3582//0x0000007d)\n\tTag(YRESOLUTION, 0x001d3582//0x0000007d)\n\tTag(RESOLUTIONUNIT, 3)\n\tTag(SAMPLEFORMAT, 1)"
     },
     "metadata": {},
     "execution_count": 3
    }
   ],
   "cell_type": "code",
   "source": [
    "first(ifds(img))[TiffImages.IMAGEDESCRIPTION] = # only in the first IFD\n",
    "\"ImageJ=1.51d\n",
    "images=12\n",
    "frames=3\n",
    "slices=4\n",
    "hyperstack=true\n",
    "spacing=5.0\n",
    "unit=um\n",
    "finterval=0.2\n",
    "axes=TZYX\"\n",
    "\n",
    "first(ifds(img))"
   ],
   "metadata": {},
   "execution_count": 3
  },
  {
   "cell_type": "markdown",
   "source": [
    "Then write the image to disk"
   ],
   "metadata": {}
  },
  {
   "outputs": [],
   "cell_type": "code",
   "source": [
    "TiffImages.save(\"imagej.tiff\", img)"
   ],
   "metadata": {},
   "execution_count": 4
  },
  {
   "cell_type": "markdown",
   "source": [
    "Opening the file in ImageJ shows that it's recognized as a hyperstack with the\n",
    "proper XYZT information:"
   ],
   "metadata": {}
  },
  {
   "cell_type": "markdown",
   "source": [
    "![](assets/fiji_hyperstack.png)\n",
    "![](assets/fiji_properties.png)"
   ],
   "metadata": {}
  },
  {
   "cell_type": "markdown",
   "source": [
    "---\n",
    "\n",
    "*This notebook was generated using [Literate.jl](https://github.com/fredrikekre/Literate.jl).*"
   ],
   "metadata": {}
  }
 ],
 "nbformat_minor": 3,
 "metadata": {
  "language_info": {
   "file_extension": ".jl",
   "mimetype": "application/julia",
   "name": "julia",
   "version": "1.11.1"
  },
  "kernelspec": {
   "name": "julia-1.11",
   "display_name": "Julia 1.11.1",
   "language": "julia"
  }
 },
 "nbformat": 4
}
